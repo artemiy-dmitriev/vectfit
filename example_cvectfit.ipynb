{
 "cells": [
  {
   "cell_type": "code",
   "execution_count": null,
   "metadata": {},
   "outputs": [],
   "source": [
    "import numpy as np\n",
    "import matplotlib.pyplot as plt\n",
    "import vectfit"
   ]
  },
  {
   "cell_type": "markdown",
   "metadata": {},
   "source": [
    "# Vectfit modification for non-conjugated complex poles\n",
    "\n",
    "## Introduction\n",
    "If the signals that are present in a system are *complex*, then the impulse responses in this system can also be complex. Correspondingly, the transfer function of this system can include complex poles that do not form complex conjugated pairs (i.e., frequency response becomes asymmetric with respect to zero frequency). For example, optical systems, such as laser interferometers, are often described as operators acting on complex amplitudes of the electromagnetic field. Many results of control theory remain applicable in the complex domain without any changes. However, some calculation methods need to be modified in order to work in the complex domain.\n",
    "\n",
    "Unlike the original MATLAB package, `vectfit` for python can fit system transfer functions for complex-valued signals. Mathematically, the difference between such transfer functions and those that describe systems with real signals, is that the latter can only have complex poles that form conjugated pairs, whilst the former can have lone complex poles, or complex pole \"pairs\" of the form $s_p = \\sigma_1+i (\\omega_0\\pm\\omega_1)$ (i.e. are \"symmetric\" with respect to some axis $\\Im s = \\omega_0$ instead of $\\Im s = 0$). \n",
    "\n",
    "This generalisation is based on the idea for `vectfit` modification described the following paper:\n",
    " * Spina, D., Ye, Y., Deschrijver, D., Bogaerts, W. and Dhaene, T. (2021), Complex vector fitting toolbox: a software package for the modelling and simulation of general linear and passive baseband systems. Electron. Lett., 57: 404-406.\n",
    "\n",
    "In that paper, the authors remove the conjugateness constrain on from the original `vectfit` approach, described in\n",
    " * Gustavsen, B. (2009). Fast passivity enforcement for S-parameter models by perturbation of residue matrix eigenvalues. IEEE Transactions on advanced packaging, 33(1), 257-265\n",
    "     \n",
    "## How to use\n",
    "The functionality for complex-valued systems is included in the main tool of the module -- `vectfit_auto()` function. Passing the argument `allow_nonconj=True` to this function enables the complex vector fitting algorithm. In this case, an initial distribution of single complex poles is generated instead of complex conjugate pairs. The iterative process uses functions in which the requirement for the poles being in complex conjugated pairs is removed according to the method suggested in `Spina, D. et al, 2021` (referenced above).\n",
    "\n",
    "## Example"
   ]
  },
  {
   "cell_type": "code",
   "execution_count": null,
   "metadata": {},
   "outputs": [],
   "source": [
    "# List of frequencies in Hz\n",
    "freqs=np.logspace(-3,3,1000)\n",
    "# List of arguments of the transfer function in the Laplace domain\n",
    "s = 2*np.pi*freqs*1j\n",
    "\n",
    "# Test transfer function 1, given by poles, residues, offset, and slope:\n",
    "tst_poles = np.array([-1e-2+1e-2j,-1e-2-1e-2j,-1e-2+1j,-1e1,-5e1])\n",
    "tst_residues = -tst_poles\n",
    "tst_d=0\n",
    "tst_h=0\n",
    "\n",
    "# Evaluation of test function: list of complex values to fit\n",
    "tst_tf = vectfit.model_polres(s, tst_poles, tst_residues, tst_d, tst_h)\n",
    "\n",
    "# Vector fitting\n",
    "# 1. standard vector fitting (bad result even for many parameters and lots of iterations\n",
    "# because we have a lone complex pole)\n",
    "fit1_poles, fit1_residues, fit1_d, fit1_h = \\\n",
    "    vectfit.vectfit_auto(tst_tf, s, n_complex_pairs=20, n_real_poles=2, n_iter=100) \n",
    "# 2. using allow_nonconj (gives a reasonably good fit with small number of initial poles)\n",
    "fit2_poles, fit2_residues, fit2_d, fit2_h = \\\n",
    "    vectfit.vectfit_auto(tst_tf, s, \\\n",
    "                         allow_nonconj=True, \\\n",
    "                         n_complex_poles=3, \\\n",
    "                         n_real_poles=2 \\\n",
    "                        ) \n",
    "\n",
    "fit1_tf = vectfit.model_polres(s, fit1_poles, fit1_residues, fit1_d, fit1_h)\n",
    "fit2_tf = vectfit.model_polres(s, fit2_poles, fit2_residues, fit2_d, fit2_h)\n",
    "\n",
    "# Plotting results\n",
    "plt.figure(figsize=(12,8))\n",
    "plt.subplot(211)\n",
    "plt.title(\"Vectfitting a function with an isolated complex pole\")\n",
    "plt.loglog(freqs, np.abs(tst_tf), label = \"original function\", color='black')\n",
    "plt.loglog(freqs, np.abs(fit1_tf), label = \"standard vectfit\", ls=\":\", color='b')\n",
    "plt.loglog(freqs, np.abs(fit2_tf), label = \"modified vectfit (allow_nonconj=True)\", ls=\"--\", color='r')\n",
    "plt.legend()\n",
    "plt.ylabel(\"Amplitude\")\n",
    "plt.subplot(212)\n",
    "plt.semilogx(freqs, np.angle(tst_tf)*180/np.pi, label = \"original function\", color='black')\n",
    "plt.semilogx(freqs, np.angle(fit1_tf)*180/np.pi, label = \"standard vectfit\", ls=\":\", color='b')\n",
    "plt.semilogx(freqs, np.angle(fit2_tf)*180/np.pi, label = \"modified vectfit (allow_nonconj=True)\", ls=\"--\", color='r')\n",
    "plt.legend()\n",
    "plt.xlabel(\"Frequency, Hz\")\n",
    "plt.ylabel(\"Phase, degrees\")\n",
    "plt.show()\n"
   ]
  },
  {
   "cell_type": "code",
   "execution_count": null,
   "metadata": {},
   "outputs": [],
   "source": []
  }
 ],
 "metadata": {
  "kernelspec": {
   "display_name": "Python 3",
   "language": "python",
   "name": "python3"
  },
  "language_info": {
   "codemirror_mode": {
    "name": "ipython",
    "version": 3
   },
   "file_extension": ".py",
   "mimetype": "text/x-python",
   "name": "python",
   "nbconvert_exporter": "python",
   "pygments_lexer": "ipython3",
   "version": "3.8.2"
  }
 },
 "nbformat": 4,
 "nbformat_minor": 4
}
